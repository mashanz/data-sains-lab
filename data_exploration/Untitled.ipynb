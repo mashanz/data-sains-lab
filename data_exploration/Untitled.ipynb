{
 "cells": [
  {
   "cell_type": "markdown",
   "metadata": {},
   "source": [
    "# Load Library"
   ]
  },
  {
   "cell_type": "code",
   "execution_count": 2,
   "metadata": {},
   "outputs": [
    {
     "ename": "ERROR",
     "evalue": "Error in .local(drv, ...): Failed to connect to database: Error: Can't connect to MySQL server on 'http://localhost:3306' (61)\n\n",
     "output_type": "error",
     "traceback": [
      "Error in .local(drv, ...): Failed to connect to database: Error: Can't connect to MySQL server on 'http://localhost:3306' (61)\n\nTraceback:\n",
      "1. dbConnect(MySQL(), user = \"root\", password = \"root\", host = \"http://localhost:3306\", \n .     dbname = \"test\")",
      "2. dbConnect(MySQL(), user = \"root\", password = \"root\", host = \"http://localhost:3306\", \n .     dbname = \"test\")",
      "3. .local(drv, ...)"
     ]
    }
   ],
   "source": [
    "library(RMySQL)\n",
    "con <- dbConnect(MySQL(), user=\"root\", password=\"root\", host=\"http://localhost:3306\", dbname=\"test\")\n",
    "sql <- \"select * from kelas\"\n",
    "rs <- tryCatch(dbSendQuery(con, sql), finally = print(\"query ok\"))\n",
    "dataSQL <- fetch(rs, n=-1)\n",
    "dataSQL\n",
    "all_cons <- dbListConnections(MySQL())\n",
    "for(con in all_cons) dbDisconnect(con)"
   ]
  },
  {
   "cell_type": "code",
   "execution_count": null,
   "metadata": {},
   "outputs": [],
   "source": []
  }
 ],
 "metadata": {
  "kernelspec": {
   "display_name": "R",
   "language": "R",
   "name": "ir"
  },
  "language_info": {
   "codemirror_mode": "r",
   "file_extension": ".r",
   "mimetype": "text/x-r-source",
   "name": "R",
   "pygments_lexer": "r",
   "version": "3.6.1"
  }
 },
 "nbformat": 4,
 "nbformat_minor": 4
}
