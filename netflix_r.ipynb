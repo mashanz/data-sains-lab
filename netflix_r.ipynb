{
 "cells": [
  {
   "cell_type": "code",
   "execution_count": 3,
   "metadata": {},
   "outputs": [
    {
     "data": {
      "text/html": [
       "<table>\n",
       "<caption>A data.frame: 6 × 12</caption>\n",
       "<thead>\n",
       "\t<tr><th></th><th scope=col>show_id</th><th scope=col>type</th><th scope=col>title</th><th scope=col>director</th><th scope=col>cast</th><th scope=col>country</th><th scope=col>date_added</th><th scope=col>release_year</th><th scope=col>rating</th><th scope=col>duration</th><th scope=col>listed_in</th><th scope=col>description</th></tr>\n",
       "\t<tr><th></th><th scope=col>&lt;int&gt;</th><th scope=col>&lt;fct&gt;</th><th scope=col>&lt;fct&gt;</th><th scope=col>&lt;fct&gt;</th><th scope=col>&lt;fct&gt;</th><th scope=col>&lt;fct&gt;</th><th scope=col>&lt;fct&gt;</th><th scope=col>&lt;int&gt;</th><th scope=col>&lt;fct&gt;</th><th scope=col>&lt;fct&gt;</th><th scope=col>&lt;fct&gt;</th><th scope=col>&lt;fct&gt;</th></tr>\n",
       "</thead>\n",
       "<tbody>\n",
       "\t<tr><th scope=row>1</th><td>81145628</td><td><span style=white-space:pre-wrap>Movie  </span></td><td>Norm of the North: King Sized Adventure</td><td>Richard Finn, Tim Maltby</td><td><span style=white-space:pre-wrap>Alan Marriott, Andrew Toth, Brian Dobson, Cole Howard, Jennifer Cameron, Jonathan Holmes, Lee Tockar, Lisa Durupt, Maya Kay, Michael Dobson                                       </span></td><td>United States, India, South Korea, China</td><td>September 9, 2019</td><td>2019</td><td><span style=white-space:pre-wrap>TV-PG   </span></td><td><span style=white-space:pre-wrap>90 min  </span></td><td><span style=white-space:pre-wrap>Children &amp; Family Movies, Comedies                               </span></td><td><span style=white-space:pre-wrap>Before planning an awesome wedding for his grandfather, a polar bear king must take back a stolen artifact from an evil archaeologist first.        </span></td></tr>\n",
       "\t<tr><th scope=row>2</th><td>80117401</td><td>Movie  </td><td>Jandino: Whatever it Takes             </td><td>                        </td><td>Jandino Asporaat                                                                                                                                                                  </td><td>United Kingdom                          </td><td>September 9, 2016</td><td>2016</td><td>TV-MA   </td><td>94 min  </td><td>Stand-Up Comedy                                                  </td><td>Jandino Asporaat riffs on the challenges of raising kids and serenades the audience with a rousing rendition of \"Sex on Fire\" in his comedy show.   </td></tr>\n",
       "\t<tr><th scope=row>3</th><td>70234439</td><td>TV Show</td><td>Transformers Prime                     </td><td>                        </td><td>Peter Cullen, Sumalee Montano, Frank Welker, Jeffrey Combs, Kevin Michael Richardson, Tania Gunadi, Josh Keaton, Steve Blum, Andy Pessoa, Ernie Hudson, Daran Norris, Will Friedle</td><td>United States                           </td><td>September 8, 2018</td><td>2013</td><td>TV-Y7-FV</td><td>1 Season</td><td>Kids' TV                                                         </td><td>With the help of three human allies, the Autobots once again protect Earth from the onslaught of the Decepticons and their leader, Megatron.        </td></tr>\n",
       "\t<tr><th scope=row>4</th><td>80058654</td><td>TV Show</td><td>Transformers: Robots in Disguise       </td><td>                        </td><td>Will Friedle, Darren Criss, Constance Zimmer, Khary Payton, Mitchell Whitfield, Stuart Allan, Ted McGinley, Peter Cullen                                                          </td><td>United States                           </td><td>September 8, 2018</td><td>2016</td><td>TV-Y7   </td><td>1 Season</td><td>Kids' TV                                                         </td><td>When a prison ship crash unleashes hundreds of Decepticons on Earth, Bumblebee leads a new Autobot force to protect humankind.                      </td></tr>\n",
       "\t<tr><th scope=row>5</th><td>80125979</td><td>Movie  </td><td>#realityhigh                           </td><td>Fernando Lebrija        </td><td>Nesta Cooper, Kate Walsh, John Michael Higgins, Keith Powers, Alicia Sanz, Jake Borelli, Kid Ink, Yousef Erakat, Rebekah Graf, Anne Winters, Peter Gilroy, Patrick Davis          </td><td>United States                           </td><td>September 8, 2017</td><td>2017</td><td>TV-14   </td><td>99 min  </td><td>Comedies                                                         </td><td>When nerdy high schooler Dani finally attracts the interest of her longtime crush, she lands in the cross hairs of his ex, a social media celebrity.</td></tr>\n",
       "\t<tr><th scope=row>6</th><td>80163890</td><td>TV Show</td><td>Apaches                                </td><td>                        </td><td>Alberto Ammann, Eloy Azorín, Verónica Echegui, Lucía Jiménez, Claudia Traisac                                                                                                     </td><td>Spain                                   </td><td>September 8, 2017</td><td>2016</td><td>TV-MA   </td><td>1 Season</td><td>Crime TV Shows, International TV Shows, Spanish-Language TV Shows</td><td>A young journalist is forced into a life of crime to save his father and family in this series based on the novel by Miguel Sáez Carral.            </td></tr>\n",
       "</tbody>\n",
       "</table>\n"
      ],
      "text/latex": [
       "A data.frame: 6 × 12\n",
       "\\begin{tabular}{r|llllllllllll}\n",
       "  & show\\_id & type & title & director & cast & country & date\\_added & release\\_year & rating & duration & listed\\_in & description\\\\\n",
       "  & <int> & <fct> & <fct> & <fct> & <fct> & <fct> & <fct> & <int> & <fct> & <fct> & <fct> & <fct>\\\\\n",
       "\\hline\n",
       "\t1 & 81145628 & Movie   & Norm of the North: King Sized Adventure & Richard Finn, Tim Maltby & Alan Marriott, Andrew Toth, Brian Dobson, Cole Howard, Jennifer Cameron, Jonathan Holmes, Lee Tockar, Lisa Durupt, Maya Kay, Michael Dobson                                        & United States, India, South Korea, China & September 9, 2019 & 2019 & TV-PG    & 90 min   & Children \\& Family Movies, Comedies                                & Before planning an awesome wedding for his grandfather, a polar bear king must take back a stolen artifact from an evil archaeologist first.        \\\\\n",
       "\t2 & 80117401 & Movie   & Jandino: Whatever it Takes              &                          & Jandino Asporaat                                                                                                                                                                   & United Kingdom                           & September 9, 2016 & 2016 & TV-MA    & 94 min   & Stand-Up Comedy                                                   & Jandino Asporaat riffs on the challenges of raising kids and serenades the audience with a rousing rendition of \"Sex on Fire\" in his comedy show.   \\\\\n",
       "\t3 & 70234439 & TV Show & Transformers Prime                      &                          & Peter Cullen, Sumalee Montano, Frank Welker, Jeffrey Combs, Kevin Michael Richardson, Tania Gunadi, Josh Keaton, Steve Blum, Andy Pessoa, Ernie Hudson, Daran Norris, Will Friedle & United States                            & September 8, 2018 & 2013 & TV-Y7-FV & 1 Season & Kids' TV                                                          & With the help of three human allies, the Autobots once again protect Earth from the onslaught of the Decepticons and their leader, Megatron.        \\\\\n",
       "\t4 & 80058654 & TV Show & Transformers: Robots in Disguise        &                          & Will Friedle, Darren Criss, Constance Zimmer, Khary Payton, Mitchell Whitfield, Stuart Allan, Ted McGinley, Peter Cullen                                                           & United States                            & September 8, 2018 & 2016 & TV-Y7    & 1 Season & Kids' TV                                                          & When a prison ship crash unleashes hundreds of Decepticons on Earth, Bumblebee leads a new Autobot force to protect humankind.                      \\\\\n",
       "\t5 & 80125979 & Movie   & \\#realityhigh                            & Fernando Lebrija         & Nesta Cooper, Kate Walsh, John Michael Higgins, Keith Powers, Alicia Sanz, Jake Borelli, Kid Ink, Yousef Erakat, Rebekah Graf, Anne Winters, Peter Gilroy, Patrick Davis           & United States                            & September 8, 2017 & 2017 & TV-14    & 99 min   & Comedies                                                          & When nerdy high schooler Dani finally attracts the interest of her longtime crush, she lands in the cross hairs of his ex, a social media celebrity.\\\\\n",
       "\t6 & 80163890 & TV Show & Apaches                                 &                          & Alberto Ammann, Eloy Azorín, Verónica Echegui, Lucía Jiménez, Claudia Traisac                                                                                                      & Spain                                    & September 8, 2017 & 2016 & TV-MA    & 1 Season & Crime TV Shows, International TV Shows, Spanish-Language TV Shows & A young journalist is forced into a life of crime to save his father and family in this series based on the novel by Miguel Sáez Carral.            \\\\\n",
       "\\end{tabular}\n"
      ],
      "text/markdown": [
       "\n",
       "A data.frame: 6 × 12\n",
       "\n",
       "| <!--/--> | show_id &lt;int&gt; | type &lt;fct&gt; | title &lt;fct&gt; | director &lt;fct&gt; | cast &lt;fct&gt; | country &lt;fct&gt; | date_added &lt;fct&gt; | release_year &lt;int&gt; | rating &lt;fct&gt; | duration &lt;fct&gt; | listed_in &lt;fct&gt; | description &lt;fct&gt; |\n",
       "|---|---|---|---|---|---|---|---|---|---|---|---|---|\n",
       "| 1 | 81145628 | Movie   | Norm of the North: King Sized Adventure | Richard Finn, Tim Maltby | Alan Marriott, Andrew Toth, Brian Dobson, Cole Howard, Jennifer Cameron, Jonathan Holmes, Lee Tockar, Lisa Durupt, Maya Kay, Michael Dobson                                        | United States, India, South Korea, China | September 9, 2019 | 2019 | TV-PG    | 90 min   | Children &amp; Family Movies, Comedies                                | Before planning an awesome wedding for his grandfather, a polar bear king must take back a stolen artifact from an evil archaeologist first.         |\n",
       "| 2 | 80117401 | Movie   | Jandino: Whatever it Takes              | <!----> | Jandino Asporaat                                                                                                                                                                   | United Kingdom                           | September 9, 2016 | 2016 | TV-MA    | 94 min   | Stand-Up Comedy                                                   | Jandino Asporaat riffs on the challenges of raising kids and serenades the audience with a rousing rendition of \"Sex on Fire\" in his comedy show.    |\n",
       "| 3 | 70234439 | TV Show | Transformers Prime                      | <!----> | Peter Cullen, Sumalee Montano, Frank Welker, Jeffrey Combs, Kevin Michael Richardson, Tania Gunadi, Josh Keaton, Steve Blum, Andy Pessoa, Ernie Hudson, Daran Norris, Will Friedle | United States                            | September 8, 2018 | 2013 | TV-Y7-FV | 1 Season | Kids' TV                                                          | With the help of three human allies, the Autobots once again protect Earth from the onslaught of the Decepticons and their leader, Megatron.         |\n",
       "| 4 | 80058654 | TV Show | Transformers: Robots in Disguise        | <!----> | Will Friedle, Darren Criss, Constance Zimmer, Khary Payton, Mitchell Whitfield, Stuart Allan, Ted McGinley, Peter Cullen                                                           | United States                            | September 8, 2018 | 2016 | TV-Y7    | 1 Season | Kids' TV                                                          | When a prison ship crash unleashes hundreds of Decepticons on Earth, Bumblebee leads a new Autobot force to protect humankind.                       |\n",
       "| 5 | 80125979 | Movie   | #realityhigh                            | Fernando Lebrija         | Nesta Cooper, Kate Walsh, John Michael Higgins, Keith Powers, Alicia Sanz, Jake Borelli, Kid Ink, Yousef Erakat, Rebekah Graf, Anne Winters, Peter Gilroy, Patrick Davis           | United States                            | September 8, 2017 | 2017 | TV-14    | 99 min   | Comedies                                                          | When nerdy high schooler Dani finally attracts the interest of her longtime crush, she lands in the cross hairs of his ex, a social media celebrity. |\n",
       "| 6 | 80163890 | TV Show | Apaches                                 | <!----> | Alberto Ammann, Eloy Azorín, Verónica Echegui, Lucía Jiménez, Claudia Traisac                                                                                                      | Spain                                    | September 8, 2017 | 2016 | TV-MA    | 1 Season | Crime TV Shows, International TV Shows, Spanish-Language TV Shows | A young journalist is forced into a life of crime to save his father and family in this series based on the novel by Miguel Sáez Carral.             |\n",
       "\n"
      ],
      "text/plain": [
       "  show_id  type    title                                  \n",
       "1 81145628 Movie   Norm of the North: King Sized Adventure\n",
       "2 80117401 Movie   Jandino: Whatever it Takes             \n",
       "3 70234439 TV Show Transformers Prime                     \n",
       "4 80058654 TV Show Transformers: Robots in Disguise       \n",
       "5 80125979 Movie   #realityhigh                           \n",
       "6 80163890 TV Show Apaches                                \n",
       "  director                \n",
       "1 Richard Finn, Tim Maltby\n",
       "2                         \n",
       "3                         \n",
       "4                         \n",
       "5 Fernando Lebrija        \n",
       "6                         \n",
       "  cast                                                                                                                                                                              \n",
       "1 Alan Marriott, Andrew Toth, Brian Dobson, Cole Howard, Jennifer Cameron, Jonathan Holmes, Lee Tockar, Lisa Durupt, Maya Kay, Michael Dobson                                       \n",
       "2 Jandino Asporaat                                                                                                                                                                  \n",
       "3 Peter Cullen, Sumalee Montano, Frank Welker, Jeffrey Combs, Kevin Michael Richardson, Tania Gunadi, Josh Keaton, Steve Blum, Andy Pessoa, Ernie Hudson, Daran Norris, Will Friedle\n",
       "4 Will Friedle, Darren Criss, Constance Zimmer, Khary Payton, Mitchell Whitfield, Stuart Allan, Ted McGinley, Peter Cullen                                                          \n",
       "5 Nesta Cooper, Kate Walsh, John Michael Higgins, Keith Powers, Alicia Sanz, Jake Borelli, Kid Ink, Yousef Erakat, Rebekah Graf, Anne Winters, Peter Gilroy, Patrick Davis          \n",
       "6 Alberto Ammann, Eloy Azorín, Verónica Echegui, Lucía Jiménez, Claudia Traisac                                                                                                     \n",
       "  country                                  date_added        release_year\n",
       "1 United States, India, South Korea, China September 9, 2019 2019        \n",
       "2 United Kingdom                           September 9, 2016 2016        \n",
       "3 United States                            September 8, 2018 2013        \n",
       "4 United States                            September 8, 2018 2016        \n",
       "5 United States                            September 8, 2017 2017        \n",
       "6 Spain                                    September 8, 2017 2016        \n",
       "  rating   duration\n",
       "1 TV-PG    90 min  \n",
       "2 TV-MA    94 min  \n",
       "3 TV-Y7-FV 1 Season\n",
       "4 TV-Y7    1 Season\n",
       "5 TV-14    99 min  \n",
       "6 TV-MA    1 Season\n",
       "  listed_in                                                        \n",
       "1 Children & Family Movies, Comedies                               \n",
       "2 Stand-Up Comedy                                                  \n",
       "3 Kids' TV                                                         \n",
       "4 Kids' TV                                                         \n",
       "5 Comedies                                                         \n",
       "6 Crime TV Shows, International TV Shows, Spanish-Language TV Shows\n",
       "  description                                                                                                                                         \n",
       "1 Before planning an awesome wedding for his grandfather, a polar bear king must take back a stolen artifact from an evil archaeologist first.        \n",
       "2 Jandino Asporaat riffs on the challenges of raising kids and serenades the audience with a rousing rendition of \"Sex on Fire\" in his comedy show.   \n",
       "3 With the help of three human allies, the Autobots once again protect Earth from the onslaught of the Decepticons and their leader, Megatron.        \n",
       "4 When a prison ship crash unleashes hundreds of Decepticons on Earth, Bumblebee leads a new Autobot force to protect humankind.                      \n",
       "5 When nerdy high schooler Dani finally attracts the interest of her longtime crush, she lands in the cross hairs of his ex, a social media celebrity.\n",
       "6 A young journalist is forced into a life of crime to save his father and family in this series based on the novel by Miguel Sáez Carral.            "
      ]
     },
     "metadata": {},
     "output_type": "display_data"
    }
   ],
   "source": [
    "netflix <- read.csv(\"netflix_titles.csv\", sep=\",\")\n",
    "head(netflix)"
   ]
  },
  {
   "cell_type": "code",
   "execution_count": null,
   "metadata": {},
   "outputs": [],
   "source": []
  }
 ],
 "metadata": {
  "kernelspec": {
   "display_name": "Python 3",
   "language": "python",
   "name": "python3"
  },
  "language_info": {
   "codemirror_mode": {
    "name": "ipython",
    "version": 3
   },
   "file_extension": ".py",
   "mimetype": "text/x-python",
   "name": "python",
   "nbconvert_exporter": "python",
   "pygments_lexer": "ipython3",
   "version": "3.7.4"
  }
 },
 "nbformat": 4,
 "nbformat_minor": 4
}
