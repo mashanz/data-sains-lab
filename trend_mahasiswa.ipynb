{
 "cells": [
  {
   "cell_type": "code",
   "execution_count": 1,
   "metadata": {},
   "outputs": [],
   "source": [
    "library(ggplot2)\n",
    "library(openxlsx)"
   ]
  },
  {
   "cell_type": "markdown",
   "metadata": {},
   "source": [
    "# Membaca file mahasiswa.xlsx"
   ]
  },
  {
   "cell_type": "code",
   "execution_count": 2,
   "metadata": {},
   "outputs": [
    {
     "data": {
      "text/html": [
       "<table>\n",
       "<caption>A data.frame: 35 × 5</caption>\n",
       "<thead>\n",
       "\t<tr><th></th><th scope=col>ANGKATAN</th><th scope=col>Fakultas</th><th scope=col>Prodi</th><th scope=col>Kode</th><th scope=col>JUMLAH</th></tr>\n",
       "\t<tr><th></th><th scope=col>&lt;dbl&gt;</th><th scope=col>&lt;chr&gt;</th><th scope=col>&lt;chr&gt;</th><th scope=col>&lt;chr&gt;</th><th scope=col>&lt;dbl&gt;</th></tr>\n",
       "</thead>\n",
       "<tbody>\n",
       "\t<tr><th scope=row>1</th><td>2015</td><td>Bisnis         </td><td>Akuntansi                     </td><td>AKUN </td><td> 88</td></tr>\n",
       "\t<tr><th scope=row>2</th><td>2016</td><td>Bisnis         </td><td>Akuntansi                     </td><td>AKUN </td><td> 85</td></tr>\n",
       "\t<tr><th scope=row>3</th><td>2017</td><td>Bisnis         </td><td>Akuntansi                     </td><td>AKUN </td><td>103</td></tr>\n",
       "\t<tr><th scope=row>4</th><td>2016</td><td>Seni dan Desain</td><td>Arsitek                       </td><td>AR   </td><td> 28</td></tr>\n",
       "\t<tr><th scope=row>5</th><td>2017</td><td>Seni dan Desain</td><td>Arsitek                       </td><td>AR   </td><td> 45</td></tr>\n",
       "\t<tr><th scope=row>6</th><td>2015</td><td>Seni dan Desain</td><td>Desain Komunikasi Visual      </td><td>DKV  </td><td>279</td></tr>\n",
       "\t<tr><th scope=row>7</th><td>2016</td><td>Seni dan Desain</td><td>Desain Komunikasi Visual      </td><td>DKV  </td><td>314</td></tr>\n",
       "\t<tr><th scope=row>8</th><td>2017</td><td>Seni dan Desain</td><td>Desain Komunikasi Visual      </td><td>DKV  </td><td>337</td></tr>\n",
       "\t<tr><th scope=row>9</th><td>2015</td><td>Seni dan Desain</td><td>Film dan Televisi             </td><td>FTV  </td><td>284</td></tr>\n",
       "\t<tr><th scope=row>10</th><td>2016</td><td>Seni dan Desain</td><td>Film dan Televisi             </td><td>FTV  </td><td>274</td></tr>\n",
       "\t<tr><th scope=row>11</th><td>2017</td><td>Seni dan Desain</td><td>Film dan Televisi             </td><td>FTV  </td><td>300</td></tr>\n",
       "\t<tr><th scope=row>12</th><td>2015</td><td>Ilmu Komunikasi</td><td>Ilmu Komunikasi               </td><td>ILKOM</td><td>499</td></tr>\n",
       "\t<tr><th scope=row>13</th><td>2016</td><td>Ilmu Komunikasi</td><td>Ilmu Komunikasi               </td><td>ILKOM</td><td>275</td></tr>\n",
       "\t<tr><th scope=row>14</th><td>2017</td><td>Ilmu Komunikasi</td><td>Ilmu Komunikasi               </td><td>ILKOM</td><td>313</td></tr>\n",
       "\t<tr><th scope=row>15</th><td>2015</td><td>Ilmu Komunikasi</td><td>Jurnalistik                   </td><td>JR   </td><td>  1</td></tr>\n",
       "\t<tr><th scope=row>16</th><td>2016</td><td>Ilmu Komunikasi</td><td>Jurnalistik                   </td><td>JR   </td><td>251</td></tr>\n",
       "\t<tr><th scope=row>17</th><td>2017</td><td>Ilmu Komunikasi</td><td>Jurnalistik                   </td><td>JR   </td><td>186</td></tr>\n",
       "\t<tr><th scope=row>18</th><td>2015</td><td>Bisnis         </td><td>Manajemen                     </td><td>MAN  </td><td>169</td></tr>\n",
       "\t<tr><th scope=row>19</th><td>2016</td><td>Bisnis         </td><td>Manajemen                     </td><td>MAN  </td><td>163</td></tr>\n",
       "\t<tr><th scope=row>20</th><td>2017</td><td>Bisnis         </td><td>Manajemen                     </td><td>MAN  </td><td>160</td></tr>\n",
       "\t<tr><th scope=row>21</th><td>2017</td><td>D3 Perhotelan  </td><td>Perhotelan                    </td><td>HTL  </td><td> 28</td></tr>\n",
       "\t<tr><th scope=row>22</th><td>2015</td><td>ICT            </td><td>Sistem Informasi              </td><td>SI   </td><td>104</td></tr>\n",
       "\t<tr><th scope=row>23</th><td>2016</td><td>ICT            </td><td>Sistem Informasi              </td><td>SI   </td><td> 95</td></tr>\n",
       "\t<tr><th scope=row>24</th><td>2017</td><td>ICT            </td><td>Sistem Informasi              </td><td>SI   </td><td>113</td></tr>\n",
       "\t<tr><th scope=row>25</th><td>2015</td><td>ICT            </td><td>Sistem Komputer               </td><td>SK   </td><td> 20</td></tr>\n",
       "\t<tr><th scope=row>26</th><td>2016</td><td>ICT            </td><td>Sistem Komputer               </td><td>SK   </td><td> 20</td></tr>\n",
       "\t<tr><th scope=row>27</th><td>2017</td><td>ICT            </td><td>Sistem Komputer               </td><td>SK   </td><td> 18</td></tr>\n",
       "\t<tr><th scope=row>28</th><td>2016</td><td>ICT            </td><td>Teknik Elektro                </td><td>TE   </td><td>  4</td></tr>\n",
       "\t<tr><th scope=row>29</th><td>2017</td><td>ICT            </td><td>Teknik Elektro                </td><td>TE   </td><td>  7</td></tr>\n",
       "\t<tr><th scope=row>30</th><td>2016</td><td>ICT            </td><td>Teknik Fisika                 </td><td>TF   </td><td>  7</td></tr>\n",
       "\t<tr><th scope=row>31</th><td>2017</td><td>ICT            </td><td>Teknik Fisika                 </td><td>TF   </td><td> 16</td></tr>\n",
       "\t<tr><th scope=row>32</th><td>2015</td><td>ICT            </td><td>Teknik Informatika            </td><td>TI   </td><td>125</td></tr>\n",
       "\t<tr><th scope=row>33</th><td>2016</td><td>ICT            </td><td>Teknik Informatika            </td><td>TI   </td><td>168</td></tr>\n",
       "\t<tr><th scope=row>34</th><td>2017</td><td>ICT            </td><td>Teknik Informatika            </td><td>TI   </td><td>164</td></tr>\n",
       "\t<tr><th scope=row>35</th><td>2017</td><td>ICT            </td><td>Teknik Informatika Dual Degree</td><td>TID  </td><td>  6</td></tr>\n",
       "</tbody>\n",
       "</table>\n"
      ],
      "text/latex": [
       "A data.frame: 35 × 5\n",
       "\\begin{tabular}{r|lllll}\n",
       "  & ANGKATAN & Fakultas & Prodi & Kode & JUMLAH\\\\\n",
       "  & <dbl> & <chr> & <chr> & <chr> & <dbl>\\\\\n",
       "\\hline\n",
       "\t1 & 2015 & Bisnis          & Akuntansi                      & AKUN  &  88\\\\\n",
       "\t2 & 2016 & Bisnis          & Akuntansi                      & AKUN  &  85\\\\\n",
       "\t3 & 2017 & Bisnis          & Akuntansi                      & AKUN  & 103\\\\\n",
       "\t4 & 2016 & Seni dan Desain & Arsitek                        & AR    &  28\\\\\n",
       "\t5 & 2017 & Seni dan Desain & Arsitek                        & AR    &  45\\\\\n",
       "\t6 & 2015 & Seni dan Desain & Desain Komunikasi Visual       & DKV   & 279\\\\\n",
       "\t7 & 2016 & Seni dan Desain & Desain Komunikasi Visual       & DKV   & 314\\\\\n",
       "\t8 & 2017 & Seni dan Desain & Desain Komunikasi Visual       & DKV   & 337\\\\\n",
       "\t9 & 2015 & Seni dan Desain & Film dan Televisi              & FTV   & 284\\\\\n",
       "\t10 & 2016 & Seni dan Desain & Film dan Televisi              & FTV   & 274\\\\\n",
       "\t11 & 2017 & Seni dan Desain & Film dan Televisi              & FTV   & 300\\\\\n",
       "\t12 & 2015 & Ilmu Komunikasi & Ilmu Komunikasi                & ILKOM & 499\\\\\n",
       "\t13 & 2016 & Ilmu Komunikasi & Ilmu Komunikasi                & ILKOM & 275\\\\\n",
       "\t14 & 2017 & Ilmu Komunikasi & Ilmu Komunikasi                & ILKOM & 313\\\\\n",
       "\t15 & 2015 & Ilmu Komunikasi & Jurnalistik                    & JR    &   1\\\\\n",
       "\t16 & 2016 & Ilmu Komunikasi & Jurnalistik                    & JR    & 251\\\\\n",
       "\t17 & 2017 & Ilmu Komunikasi & Jurnalistik                    & JR    & 186\\\\\n",
       "\t18 & 2015 & Bisnis          & Manajemen                      & MAN   & 169\\\\\n",
       "\t19 & 2016 & Bisnis          & Manajemen                      & MAN   & 163\\\\\n",
       "\t20 & 2017 & Bisnis          & Manajemen                      & MAN   & 160\\\\\n",
       "\t21 & 2017 & D3 Perhotelan   & Perhotelan                     & HTL   &  28\\\\\n",
       "\t22 & 2015 & ICT             & Sistem Informasi               & SI    & 104\\\\\n",
       "\t23 & 2016 & ICT             & Sistem Informasi               & SI    &  95\\\\\n",
       "\t24 & 2017 & ICT             & Sistem Informasi               & SI    & 113\\\\\n",
       "\t25 & 2015 & ICT             & Sistem Komputer                & SK    &  20\\\\\n",
       "\t26 & 2016 & ICT             & Sistem Komputer                & SK    &  20\\\\\n",
       "\t27 & 2017 & ICT             & Sistem Komputer                & SK    &  18\\\\\n",
       "\t28 & 2016 & ICT             & Teknik Elektro                 & TE    &   4\\\\\n",
       "\t29 & 2017 & ICT             & Teknik Elektro                 & TE    &   7\\\\\n",
       "\t30 & 2016 & ICT             & Teknik Fisika                  & TF    &   7\\\\\n",
       "\t31 & 2017 & ICT             & Teknik Fisika                  & TF    &  16\\\\\n",
       "\t32 & 2015 & ICT             & Teknik Informatika             & TI    & 125\\\\\n",
       "\t33 & 2016 & ICT             & Teknik Informatika             & TI    & 168\\\\\n",
       "\t34 & 2017 & ICT             & Teknik Informatika             & TI    & 164\\\\\n",
       "\t35 & 2017 & ICT             & Teknik Informatika Dual Degree & TID   &   6\\\\\n",
       "\\end{tabular}\n"
      ],
      "text/markdown": [
       "\n",
       "A data.frame: 35 × 5\n",
       "\n",
       "| <!--/--> | ANGKATAN &lt;dbl&gt; | Fakultas &lt;chr&gt; | Prodi &lt;chr&gt; | Kode &lt;chr&gt; | JUMLAH &lt;dbl&gt; |\n",
       "|---|---|---|---|---|---|\n",
       "| 1 | 2015 | Bisnis          | Akuntansi                      | AKUN  |  88 |\n",
       "| 2 | 2016 | Bisnis          | Akuntansi                      | AKUN  |  85 |\n",
       "| 3 | 2017 | Bisnis          | Akuntansi                      | AKUN  | 103 |\n",
       "| 4 | 2016 | Seni dan Desain | Arsitek                        | AR    |  28 |\n",
       "| 5 | 2017 | Seni dan Desain | Arsitek                        | AR    |  45 |\n",
       "| 6 | 2015 | Seni dan Desain | Desain Komunikasi Visual       | DKV   | 279 |\n",
       "| 7 | 2016 | Seni dan Desain | Desain Komunikasi Visual       | DKV   | 314 |\n",
       "| 8 | 2017 | Seni dan Desain | Desain Komunikasi Visual       | DKV   | 337 |\n",
       "| 9 | 2015 | Seni dan Desain | Film dan Televisi              | FTV   | 284 |\n",
       "| 10 | 2016 | Seni dan Desain | Film dan Televisi              | FTV   | 274 |\n",
       "| 11 | 2017 | Seni dan Desain | Film dan Televisi              | FTV   | 300 |\n",
       "| 12 | 2015 | Ilmu Komunikasi | Ilmu Komunikasi                | ILKOM | 499 |\n",
       "| 13 | 2016 | Ilmu Komunikasi | Ilmu Komunikasi                | ILKOM | 275 |\n",
       "| 14 | 2017 | Ilmu Komunikasi | Ilmu Komunikasi                | ILKOM | 313 |\n",
       "| 15 | 2015 | Ilmu Komunikasi | Jurnalistik                    | JR    |   1 |\n",
       "| 16 | 2016 | Ilmu Komunikasi | Jurnalistik                    | JR    | 251 |\n",
       "| 17 | 2017 | Ilmu Komunikasi | Jurnalistik                    | JR    | 186 |\n",
       "| 18 | 2015 | Bisnis          | Manajemen                      | MAN   | 169 |\n",
       "| 19 | 2016 | Bisnis          | Manajemen                      | MAN   | 163 |\n",
       "| 20 | 2017 | Bisnis          | Manajemen                      | MAN   | 160 |\n",
       "| 21 | 2017 | D3 Perhotelan   | Perhotelan                     | HTL   |  28 |\n",
       "| 22 | 2015 | ICT             | Sistem Informasi               | SI    | 104 |\n",
       "| 23 | 2016 | ICT             | Sistem Informasi               | SI    |  95 |\n",
       "| 24 | 2017 | ICT             | Sistem Informasi               | SI    | 113 |\n",
       "| 25 | 2015 | ICT             | Sistem Komputer                | SK    |  20 |\n",
       "| 26 | 2016 | ICT             | Sistem Komputer                | SK    |  20 |\n",
       "| 27 | 2017 | ICT             | Sistem Komputer                | SK    |  18 |\n",
       "| 28 | 2016 | ICT             | Teknik Elektro                 | TE    |   4 |\n",
       "| 29 | 2017 | ICT             | Teknik Elektro                 | TE    |   7 |\n",
       "| 30 | 2016 | ICT             | Teknik Fisika                  | TF    |   7 |\n",
       "| 31 | 2017 | ICT             | Teknik Fisika                  | TF    |  16 |\n",
       "| 32 | 2015 | ICT             | Teknik Informatika             | TI    | 125 |\n",
       "| 33 | 2016 | ICT             | Teknik Informatika             | TI    | 168 |\n",
       "| 34 | 2017 | ICT             | Teknik Informatika             | TI    | 164 |\n",
       "| 35 | 2017 | ICT             | Teknik Informatika Dual Degree | TID   |   6 |\n",
       "\n"
      ],
      "text/plain": [
       "   ANGKATAN Fakultas        Prodi                          Kode  JUMLAH\n",
       "1  2015     Bisnis          Akuntansi                      AKUN   88   \n",
       "2  2016     Bisnis          Akuntansi                      AKUN   85   \n",
       "3  2017     Bisnis          Akuntansi                      AKUN  103   \n",
       "4  2016     Seni dan Desain Arsitek                        AR     28   \n",
       "5  2017     Seni dan Desain Arsitek                        AR     45   \n",
       "6  2015     Seni dan Desain Desain Komunikasi Visual       DKV   279   \n",
       "7  2016     Seni dan Desain Desain Komunikasi Visual       DKV   314   \n",
       "8  2017     Seni dan Desain Desain Komunikasi Visual       DKV   337   \n",
       "9  2015     Seni dan Desain Film dan Televisi              FTV   284   \n",
       "10 2016     Seni dan Desain Film dan Televisi              FTV   274   \n",
       "11 2017     Seni dan Desain Film dan Televisi              FTV   300   \n",
       "12 2015     Ilmu Komunikasi Ilmu Komunikasi                ILKOM 499   \n",
       "13 2016     Ilmu Komunikasi Ilmu Komunikasi                ILKOM 275   \n",
       "14 2017     Ilmu Komunikasi Ilmu Komunikasi                ILKOM 313   \n",
       "15 2015     Ilmu Komunikasi Jurnalistik                    JR      1   \n",
       "16 2016     Ilmu Komunikasi Jurnalistik                    JR    251   \n",
       "17 2017     Ilmu Komunikasi Jurnalistik                    JR    186   \n",
       "18 2015     Bisnis          Manajemen                      MAN   169   \n",
       "19 2016     Bisnis          Manajemen                      MAN   163   \n",
       "20 2017     Bisnis          Manajemen                      MAN   160   \n",
       "21 2017     D3 Perhotelan   Perhotelan                     HTL    28   \n",
       "22 2015     ICT             Sistem Informasi               SI    104   \n",
       "23 2016     ICT             Sistem Informasi               SI     95   \n",
       "24 2017     ICT             Sistem Informasi               SI    113   \n",
       "25 2015     ICT             Sistem Komputer                SK     20   \n",
       "26 2016     ICT             Sistem Komputer                SK     20   \n",
       "27 2017     ICT             Sistem Komputer                SK     18   \n",
       "28 2016     ICT             Teknik Elektro                 TE      4   \n",
       "29 2017     ICT             Teknik Elektro                 TE      7   \n",
       "30 2016     ICT             Teknik Fisika                  TF      7   \n",
       "31 2017     ICT             Teknik Fisika                  TF     16   \n",
       "32 2015     ICT             Teknik Informatika             TI    125   \n",
       "33 2016     ICT             Teknik Informatika             TI    168   \n",
       "34 2017     ICT             Teknik Informatika             TI    164   \n",
       "35 2017     ICT             Teknik Informatika Dual Degree TID     6   "
      ]
     },
     "metadata": {},
     "output_type": "display_data"
    }
   ],
   "source": [
    "mahasiswa <- read.xlsx(\"mahasiswa.xlsx\",sheet = \"Sheet 1\")\n",
    "mahasiswa"
   ]
  },
  {
   "cell_type": "markdown",
   "metadata": {},
   "source": [
    "# Menghitung Jumlah Data by Fakultas"
   ]
  },
  {
   "cell_type": "code",
   "execution_count": 3,
   "metadata": {},
   "outputs": [
    {
     "data": {
      "text/html": [
       "<table>\n",
       "<caption>A data.frame: 13 × 3</caption>\n",
       "<thead>\n",
       "\t<tr><th scope=col>Kategori</th><th scope=col>Tahun</th><th scope=col>x</th></tr>\n",
       "\t<tr><th scope=col>&lt;chr&gt;</th><th scope=col>&lt;dbl&gt;</th><th scope=col>&lt;dbl&gt;</th></tr>\n",
       "</thead>\n",
       "<tbody>\n",
       "\t<tr><td>Bisnis         </td><td>2015</td><td>257</td></tr>\n",
       "\t<tr><td>ICT            </td><td>2015</td><td>249</td></tr>\n",
       "\t<tr><td>Ilmu Komunikasi</td><td>2015</td><td>500</td></tr>\n",
       "\t<tr><td>Seni dan Desain</td><td>2015</td><td>563</td></tr>\n",
       "\t<tr><td>Bisnis         </td><td>2016</td><td>248</td></tr>\n",
       "\t<tr><td>ICT            </td><td>2016</td><td>294</td></tr>\n",
       "\t<tr><td>Ilmu Komunikasi</td><td>2016</td><td>526</td></tr>\n",
       "\t<tr><td>Seni dan Desain</td><td>2016</td><td>616</td></tr>\n",
       "\t<tr><td>Bisnis         </td><td>2017</td><td>263</td></tr>\n",
       "\t<tr><td>D3 Perhotelan  </td><td>2017</td><td> 28</td></tr>\n",
       "\t<tr><td>ICT            </td><td>2017</td><td>324</td></tr>\n",
       "\t<tr><td>Ilmu Komunikasi</td><td>2017</td><td>499</td></tr>\n",
       "\t<tr><td>Seni dan Desain</td><td>2017</td><td>682</td></tr>\n",
       "</tbody>\n",
       "</table>\n"
      ],
      "text/latex": [
       "A data.frame: 13 × 3\n",
       "\\begin{tabular}{lll}\n",
       " Kategori & Tahun & x\\\\\n",
       " <chr> & <dbl> & <dbl>\\\\\n",
       "\\hline\n",
       "\t Bisnis          & 2015 & 257\\\\\n",
       "\t ICT             & 2015 & 249\\\\\n",
       "\t Ilmu Komunikasi & 2015 & 500\\\\\n",
       "\t Seni dan Desain & 2015 & 563\\\\\n",
       "\t Bisnis          & 2016 & 248\\\\\n",
       "\t ICT             & 2016 & 294\\\\\n",
       "\t Ilmu Komunikasi & 2016 & 526\\\\\n",
       "\t Seni dan Desain & 2016 & 616\\\\\n",
       "\t Bisnis          & 2017 & 263\\\\\n",
       "\t D3 Perhotelan   & 2017 &  28\\\\\n",
       "\t ICT             & 2017 & 324\\\\\n",
       "\t Ilmu Komunikasi & 2017 & 499\\\\\n",
       "\t Seni dan Desain & 2017 & 682\\\\\n",
       "\\end{tabular}\n"
      ],
      "text/markdown": [
       "\n",
       "A data.frame: 13 × 3\n",
       "\n",
       "| Kategori &lt;chr&gt; | Tahun &lt;dbl&gt; | x &lt;dbl&gt; |\n",
       "|---|---|---|\n",
       "| Bisnis          | 2015 | 257 |\n",
       "| ICT             | 2015 | 249 |\n",
       "| Ilmu Komunikasi | 2015 | 500 |\n",
       "| Seni dan Desain | 2015 | 563 |\n",
       "| Bisnis          | 2016 | 248 |\n",
       "| ICT             | 2016 | 294 |\n",
       "| Ilmu Komunikasi | 2016 | 526 |\n",
       "| Seni dan Desain | 2016 | 616 |\n",
       "| Bisnis          | 2017 | 263 |\n",
       "| D3 Perhotelan   | 2017 |  28 |\n",
       "| ICT             | 2017 | 324 |\n",
       "| Ilmu Komunikasi | 2017 | 499 |\n",
       "| Seni dan Desain | 2017 | 682 |\n",
       "\n"
      ],
      "text/plain": [
       "   Kategori        Tahun x  \n",
       "1  Bisnis          2015  257\n",
       "2  ICT             2015  249\n",
       "3  Ilmu Komunikasi 2015  500\n",
       "4  Seni dan Desain 2015  563\n",
       "5  Bisnis          2016  248\n",
       "6  ICT             2016  294\n",
       "7  Ilmu Komunikasi 2016  526\n",
       "8  Seni dan Desain 2016  616\n",
       "9  Bisnis          2017  263\n",
       "10 D3 Perhotelan   2017   28\n",
       "11 ICT             2017  324\n",
       "12 Ilmu Komunikasi 2017  499\n",
       "13 Seni dan Desain 2017  682"
      ]
     },
     "metadata": {},
     "output_type": "display_data"
    }
   ],
   "source": [
    "summarybyfakultas <- aggregate(x=mahasiswa$JUMLAH, by=list(Kategori=mahasiswa$Fakultas, Tahun=mahasiswa$ANGKATAN), FUN=sum)\n",
    "summarybyfakultas"
   ]
  },
  {
   "cell_type": "code",
   "execution_count": 4,
   "metadata": {},
   "outputs": [
    {
     "data": {
      "text/html": [
       "<table>\n",
       "<caption>A data.frame: 13 × 3</caption>\n",
       "<thead>\n",
       "\t<tr><th scope=col>fakultas</th><th scope=col>tahun</th><th scope=col>jumlah_mahasiswa</th></tr>\n",
       "\t<tr><th scope=col>&lt;chr&gt;</th><th scope=col>&lt;dbl&gt;</th><th scope=col>&lt;dbl&gt;</th></tr>\n",
       "</thead>\n",
       "<tbody>\n",
       "\t<tr><td>Bisnis         </td><td>2015</td><td>257</td></tr>\n",
       "\t<tr><td>ICT            </td><td>2015</td><td>249</td></tr>\n",
       "\t<tr><td>Ilmu Komunikasi</td><td>2015</td><td>500</td></tr>\n",
       "\t<tr><td>Seni dan Desain</td><td>2015</td><td>563</td></tr>\n",
       "\t<tr><td>Bisnis         </td><td>2016</td><td>248</td></tr>\n",
       "\t<tr><td>ICT            </td><td>2016</td><td>294</td></tr>\n",
       "\t<tr><td>Ilmu Komunikasi</td><td>2016</td><td>526</td></tr>\n",
       "\t<tr><td>Seni dan Desain</td><td>2016</td><td>616</td></tr>\n",
       "\t<tr><td>Bisnis         </td><td>2017</td><td>263</td></tr>\n",
       "\t<tr><td>D3 Perhotelan  </td><td>2017</td><td> 28</td></tr>\n",
       "\t<tr><td>ICT            </td><td>2017</td><td>324</td></tr>\n",
       "\t<tr><td>Ilmu Komunikasi</td><td>2017</td><td>499</td></tr>\n",
       "\t<tr><td>Seni dan Desain</td><td>2017</td><td>682</td></tr>\n",
       "</tbody>\n",
       "</table>\n"
      ],
      "text/latex": [
       "A data.frame: 13 × 3\n",
       "\\begin{tabular}{lll}\n",
       " fakultas & tahun & jumlah\\_mahasiswa\\\\\n",
       " <chr> & <dbl> & <dbl>\\\\\n",
       "\\hline\n",
       "\t Bisnis          & 2015 & 257\\\\\n",
       "\t ICT             & 2015 & 249\\\\\n",
       "\t Ilmu Komunikasi & 2015 & 500\\\\\n",
       "\t Seni dan Desain & 2015 & 563\\\\\n",
       "\t Bisnis          & 2016 & 248\\\\\n",
       "\t ICT             & 2016 & 294\\\\\n",
       "\t Ilmu Komunikasi & 2016 & 526\\\\\n",
       "\t Seni dan Desain & 2016 & 616\\\\\n",
       "\t Bisnis          & 2017 & 263\\\\\n",
       "\t D3 Perhotelan   & 2017 &  28\\\\\n",
       "\t ICT             & 2017 & 324\\\\\n",
       "\t Ilmu Komunikasi & 2017 & 499\\\\\n",
       "\t Seni dan Desain & 2017 & 682\\\\\n",
       "\\end{tabular}\n"
      ],
      "text/markdown": [
       "\n",
       "A data.frame: 13 × 3\n",
       "\n",
       "| fakultas &lt;chr&gt; | tahun &lt;dbl&gt; | jumlah_mahasiswa &lt;dbl&gt; |\n",
       "|---|---|---|\n",
       "| Bisnis          | 2015 | 257 |\n",
       "| ICT             | 2015 | 249 |\n",
       "| Ilmu Komunikasi | 2015 | 500 |\n",
       "| Seni dan Desain | 2015 | 563 |\n",
       "| Bisnis          | 2016 | 248 |\n",
       "| ICT             | 2016 | 294 |\n",
       "| Ilmu Komunikasi | 2016 | 526 |\n",
       "| Seni dan Desain | 2016 | 616 |\n",
       "| Bisnis          | 2017 | 263 |\n",
       "| D3 Perhotelan   | 2017 |  28 |\n",
       "| ICT             | 2017 | 324 |\n",
       "| Ilmu Komunikasi | 2017 | 499 |\n",
       "| Seni dan Desain | 2017 | 682 |\n",
       "\n"
      ],
      "text/plain": [
       "   fakultas        tahun jumlah_mahasiswa\n",
       "1  Bisnis          2015  257             \n",
       "2  ICT             2015  249             \n",
       "3  Ilmu Komunikasi 2015  500             \n",
       "4  Seni dan Desain 2015  563             \n",
       "5  Bisnis          2016  248             \n",
       "6  ICT             2016  294             \n",
       "7  Ilmu Komunikasi 2016  526             \n",
       "8  Seni dan Desain 2016  616             \n",
       "9  Bisnis          2017  263             \n",
       "10 D3 Perhotelan   2017   28             \n",
       "11 ICT             2017  324             \n",
       "12 Ilmu Komunikasi 2017  499             \n",
       "13 Seni dan Desain 2017  682             "
      ]
     },
     "metadata": {},
     "output_type": "display_data"
    }
   ],
   "source": [
    "summarybyfakultas <- setNames(summarybyfakultas, c(\"fakultas\",\"tahun\", \"jumlah_mahasiswa\"))\n",
    "summarybyfakultas"
   ]
  },
  {
   "cell_type": "code",
   "execution_count": 5,
   "metadata": {},
   "outputs": [
    {
     "data": {
      "text/html": [
       "<style>\n",
       ".list-inline {list-style: none; margin:0; padding: 0}\n",
       ".list-inline>li {display: inline-block}\n",
       ".list-inline>li:not(:last-child)::after {content: \"\\00b7\"; padding: 0 .5ex}\n",
       "</style>\n",
       "<ol class=list-inline><li>2015</li><li>2015</li><li>2015</li><li>2015</li><li>2016</li><li>2016</li><li>2016</li><li>2016</li><li>2017</li><li>2017</li><li>2017</li><li>2017</li><li>2017</li></ol>\n",
       "\n",
       "<details>\n",
       "\t<summary style=display:list-item;cursor:pointer>\n",
       "\t\t<strong>Levels</strong>:\n",
       "\t</summary>\n",
       "\t<style>\n",
       "\t.list-inline {list-style: none; margin:0; padding: 0}\n",
       "\t.list-inline>li {display: inline-block}\n",
       "\t.list-inline>li:not(:last-child)::after {content: \"\\00b7\"; padding: 0 .5ex}\n",
       "\t</style>\n",
       "\t<ol class=list-inline><li>'2015'</li><li>'2016'</li><li>'2017'</li></ol>\n",
       "</details>"
      ],
      "text/latex": [
       "\\begin{enumerate*}\n",
       "\\item 2015\n",
       "\\item 2015\n",
       "\\item 2015\n",
       "\\item 2015\n",
       "\\item 2016\n",
       "\\item 2016\n",
       "\\item 2016\n",
       "\\item 2016\n",
       "\\item 2017\n",
       "\\item 2017\n",
       "\\item 2017\n",
       "\\item 2017\n",
       "\\item 2017\n",
       "\\end{enumerate*}\n",
       "\n",
       "\\emph{Levels}: \\begin{enumerate*}\n",
       "\\item '2015'\n",
       "\\item '2016'\n",
       "\\item '2017'\n",
       "\\end{enumerate*}\n"
      ],
      "text/markdown": [
       "1. 2015\n",
       "2. 2015\n",
       "3. 2015\n",
       "4. 2015\n",
       "5. 2016\n",
       "6. 2016\n",
       "7. 2016\n",
       "8. 2016\n",
       "9. 2017\n",
       "10. 2017\n",
       "11. 2017\n",
       "12. 2017\n",
       "13. 2017\n",
       "\n",
       "\n",
       "\n",
       "**Levels**: 1. '2015'\n",
       "2. '2016'\n",
       "3. '2017'\n",
       "\n",
       "\n"
      ],
      "text/plain": [
       " [1] 2015 2015 2015 2015 2016 2016 2016 2016 2017 2017 2017 2017 2017\n",
       "Levels: 2015 2016 2017"
      ]
     },
     "metadata": {},
     "output_type": "display_data"
    }
   ],
   "source": [
    "summarybyfakultas$tahun = as.factor(summarybyfakultas$tahun)\n",
    "summarybyfakultas$tahun"
   ]
  },
  {
   "cell_type": "code",
   "execution_count": 6,
   "metadata": {},
   "outputs": [
    {
     "data": {
      "image/png": "[encoded data removed]",
      "text/plain": [
       "plot without title"
      ]
     },
     "metadata": {
      "image/png": {
       "height": 420,
       "width": 420
      },
      "text/plain": {
       "height": 420,
       "width": 420
      }
     },
     "output_type": "display_data"
    }
   ],
   "source": [
    "ggplot(summarybyfakultas, aes(x=fakultas, y=jumlah_mahasiswa)) + \n",
    "  geom_bar(stat = \"identity\", aes(fill = tahun), width=0.8, position = position_dodge(width=0.8)) + \n",
    "  theme_classic() "
   ]
  }
 ],
 "metadata": {
  "kernelspec": {
   "display_name": "Python 3",
   "language": "python",
   "name": "python3"
  },
  "language_info": {
   "codemirror_mode": {
    "name": "ipython",
    "version": 3
   },
   "file_extension": ".py",
   "mimetype": "text/x-python",
   "name": "python",
   "nbconvert_exporter": "python",
   "pygments_lexer": "ipython3",
   "version": "3.7.4"
  }
 },
 "nbformat": 4,
 "nbformat_minor": 4
}
